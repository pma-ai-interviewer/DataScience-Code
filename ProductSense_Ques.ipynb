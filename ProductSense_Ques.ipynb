{
  "nbformat": 4,
  "nbformat_minor": 0,
  "metadata": {
    "colab": {
      "provenance": []
    },
    "kernelspec": {
      "name": "python3",
      "display_name": "Python 3"
    },
    "language_info": {
      "name": "python"
    }
  },
  "cells": [
    {
      "cell_type": "code",
      "execution_count": null,
      "metadata": {
        "id": "w_TuKq59p1wv"
      },
      "outputs": [],
      "source": [
        "import os\n",
        "import anthropic\n",
        "\n",
        "# Set up Claude API Key\n",
        "client = anthropic.Anthropic(api_key=\"\")\n",
        "\n",
        "def generate_product_sense_question():\n",
        "    \"\"\"\n",
        "    Automatically generates a Product Sense question while incorporating the CIRCLE framework.\n",
        "\n",
        "    AI dynamically selects:\n",
        "    - The product domain (General, Industry-Specific, or Trend-Based)\n",
        "    - The type of product sense question (Problem-Solving, User-Centric, Strategy, or Innovation)\n",
        "    - Ensures candidates apply the CIRCLE framework in their response.\n",
        "\n",
        "    :return: (str) AI-generated Product Sense interview question.\n",
        "    \"\"\"\n",
        "\n",
        "    # AI-driven dynamic question prompt with CIRCLE framework\n",
        "    prompt = \"\"\"\n",
        "    You are an interviewer in a product manager job interview. Generate a **single, brief, high-quality Product Sense interview question**\n",
        "    that feels natural and human-like. The question must encourage candidates to apply the **CIRCLE framework** in their response.\n",
        "\n",
        "    **Definition of Product Sense:**\n",
        "    A case study that tests the interviewee’s ability to design a product with minimal information, demonstrating\n",
        "    critical thinking and communication skills.\n",
        "\n",
        "    **CIRCLE Framework:**\n",
        "    The question should require the candidate to:\n",
        "    1.**Clarify the Goal** – Identify the problem space and define success metrics.\n",
        "    2.**Identify Customer Personas** – Define the key users and their needs.\n",
        "    3.**Report Customer Needs** – Articulate pain points and key requirements.\n",
        "    4.**Conduct Competitive Analysis** – Assess existing solutions and market landscape.\n",
        "    5.**List Solutions** – Generate possible product solutions.\n",
        "    6.**Evaluate Trade-offs & Recommend** – Prioritize and justify the best solution.\n",
        "\n",
        "    **Rules for the Question:**\n",
        "    - AI should **automatically select** a relevant question type:\n",
        "        - **Problem-Solving:** \"How would you improve X?\"\n",
        "        - **User-Centric:** \"How would you design a product for Y persona?\"\n",
        "        - **Strategy-Oriented:** \"How would you prioritize Z features?\"\n",
        "        - **Innovation-Based:** \"Create a new product for X market.\"\n",
        "    - The question must be **open-ended** to allow structured thinking.\n",
        "\n",
        "    **Examples:**\n",
        "    - Improve AirBnB – How would you enhance the booking experience for international travelers?\n",
        "    - Design a mental wellness app for healthcare workers – How would you help frontline medical staff manage stress?\n",
        "    - Redesign airport security – How would you improve TSA check-in for a smoother experience?\n",
        "    - Create a competitor for IMDb – How would you build a next-gen movie discovery platform?\n",
        "\n",
        "    **Generate only ONE brief and well-structured Product Sense interview question that requires the candidate to apply CIRCLE:**\n",
        "    \"\"\"\n",
        "\n",
        "    try:\n",
        "        response = client.messages.create(\n",
        "            model=\"claude-3-7-sonnet-20250219\",\n",
        "            max_tokens=150,\n",
        "            system=\"You generate only one structured and high-quality Product Sense interview question, ensuring the candidate applies the CIRCLE framework.\",\n",
        "            messages=[{\"role\": \"user\", \"content\": prompt}],\n",
        "        )\n",
        "\n",
        "        return response.content[0].text.strip()  # Extract the generated question\n",
        "\n",
        "    except Exception as e:\n",
        "        return \"Sorry, an error occurred while generating the Product Sense question.\"\n",
        "\n",
        "# Generates and prints a single Product Sense question\n",
        "if __name__ == \"__main__\":\n",
        "    print(generate_product_sense_question())  # This will return only one question, naturally generated\n"
      ]
    }
  ]
}